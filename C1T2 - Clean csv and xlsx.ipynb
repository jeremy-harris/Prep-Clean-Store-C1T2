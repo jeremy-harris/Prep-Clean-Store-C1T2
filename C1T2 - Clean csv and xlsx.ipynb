{
 "cells": [
  {
   "cell_type": "markdown",
   "metadata": {},
   "source": [
    "## Cleaning, merging and displaying csv and xlsx files"
   ]
  },
  {
   "cell_type": "markdown",
   "metadata": {},
   "source": [
    "### My Very First Jupyter Notebook! This is just an exercise and proof of concept...."
   ]
  },
  {
   "cell_type": "markdown",
   "metadata": {},
   "source": [
    "The task is to take in a list of current sales inforamtion, clean it up and use it to train a machine learning model that will predict the top five most successful products from the list. I needed to take the raw spreadsheets, clean them up and create a new clean spreadsheet that I would import to RapidMiner and train various machine learning models on to gain the best performance. Once the best performance is achieved - I would predict the top 5 items (based upon predicted volume of sales and then multiplied by the profit margin and price). \n",
    "\n",
    "In this notebook, I do not create new csv files. In this case, I already have the output from the machine learning exercise because I've already completed the exercise. So, I'm able to show that Jupyter Notebook can clean my files and store them as a dataframe, then let me merge with the final machine learning output file and perform calculations. \n",
    "\n",
    "Lastly, instead of writing a final csv file with the top 5 ranking, I simply create a bar graph of the top 5 items."
   ]
  },
  {
   "cell_type": "code",
   "execution_count": 1,
   "metadata": {
    "scrolled": true
   },
   "outputs": [
    {
     "name": "stderr",
     "output_type": "stream",
     "text": [
      "Warning message:\n",
      "\"package 'tidyverse' was built under R version 3.5.2\"-- Attaching packages --------------------------------------- tidyverse 1.2.1 --\n",
      "v ggplot2 3.1.0     v purrr   0.2.5\n",
      "v tibble  2.0.1     v dplyr   0.7.8\n",
      "v tidyr   0.8.2     v stringr 1.3.1\n",
      "v readr   1.3.1     v forcats 0.3.0\n",
      "Warning message:\n",
      "\"package 'ggplot2' was built under R version 3.5.2\"Warning message:\n",
      "\"package 'tibble' was built under R version 3.5.2\"Warning message:\n",
      "\"package 'tidyr' was built under R version 3.5.2\"Warning message:\n",
      "\"package 'readr' was built under R version 3.5.2\"Warning message:\n",
      "\"package 'purrr' was built under R version 3.5.2\"Warning message:\n",
      "\"package 'dplyr' was built under R version 3.5.2\"Warning message:\n",
      "\"package 'stringr' was built under R version 3.5.2\"Warning message:\n",
      "\"package 'forcats' was built under R version 3.5.2\"-- Conflicts ------------------------------------------ tidyverse_conflicts() --\n",
      "x dplyr::filter() masks stats::filter()\n",
      "x dplyr::lag()    masks stats::lag()\n"
     ]
    }
   ],
   "source": [
    "# Clean up csv files and save them as dataframes that can be accessed later in the post-machine learning phase\n",
    "\n",
    "#Load necessary packages\n",
    "library(tidyverse)\n",
    "\n",
    "# Read in csv files, fix header values and replace missing values with NA\n",
    "existing <- read.csv(\"existingProductAttributes.csv\", header = TRUE, na.strings = c(\"\", \"NA\"))\n",
    "newProds <- read.csv(\"newProductAttributes.csv\", header = TRUE, na.strings = c(\"\", \"NA\"))\n",
    "\n",
    "#Changes name of second column b/c r handles # differently, then assign column names to second file so that they match\n",
    "colnames(existing)[2] <- \"Product.Number\" \n",
    "colnames(newProds) <- colnames(existing)"
   ]
  },
  {
   "cell_type": "markdown",
   "metadata": {},
   "source": [
    "### More proof of concept. Instead of writing new files, I just wanted to see if the above code worked by comparing the first few rows."
   ]
  },
  {
   "cell_type": "code",
   "execution_count": 5,
   "metadata": {
    "scrolled": true
   },
   "outputs": [
    {
     "data": {
      "text/html": [
       "<table>\n",
       "<thead><tr><th scope=col>Product.Type</th><th scope=col>Product.Number</th><th scope=col>Price</th><th scope=col>X5.Star.Reviews</th><th scope=col>X4.Star.Reviews</th><th scope=col>X3.Star.Reviews</th><th scope=col>X2.Star.Reviews</th><th scope=col>X1.Star.Reviews</th><th scope=col>Positive.Service.Review</th><th scope=col>Negative.Service.Review</th><th scope=col>Would.consumer.recommend.product</th><th scope=col>Best.Sellers.Rank</th><th scope=col>Shipping.Weight..lbs.</th><th scope=col>Product.Depth</th><th scope=col>Product.Width</th><th scope=col>Product.Height</th><th scope=col>Profit.margin</th><th scope=col>Volume</th></tr></thead>\n",
       "<tbody>\n",
       "\t<tr><td>PC         </td><td>101        </td><td> 949.00    </td><td> 3         </td><td> 3         </td><td> 2         </td><td>0          </td><td> 0         </td><td> 2         </td><td> 0         </td><td>0.9        </td><td> 1967      </td><td>25.8       </td><td>23.94      </td><td> 6.62      </td><td>16.89      </td><td>0.15       </td><td> 12        </td></tr>\n",
       "\t<tr><td>PC         </td><td>102        </td><td>2249.99    </td><td> 2         </td><td> 1         </td><td> 0         </td><td>0          </td><td> 0         </td><td> 1         </td><td> 0         </td><td>0.9        </td><td> 4806      </td><td>50.0       </td><td>35.00      </td><td>31.75      </td><td>19.00      </td><td>0.25       </td><td>  8        </td></tr>\n",
       "\t<tr><td>PC         </td><td>103        </td><td> 399.00    </td><td> 3         </td><td> 0         </td><td> 0         </td><td>0          </td><td> 0         </td><td> 1         </td><td> 0         </td><td>0.9        </td><td>12076      </td><td>17.4       </td><td>10.50      </td><td> 8.30      </td><td>10.20      </td><td>0.08       </td><td> 12        </td></tr>\n",
       "\t<tr><td>Laptop     </td><td>104        </td><td> 409.99    </td><td>49         </td><td>19         </td><td> 8         </td><td>3          </td><td> 9         </td><td> 7         </td><td> 8         </td><td>0.8        </td><td>  109      </td><td> 5.7       </td><td>15.00      </td><td> 9.90      </td><td> 1.30      </td><td>0.08       </td><td>196        </td></tr>\n",
       "\t<tr><td>Laptop     </td><td>105        </td><td>1079.99    </td><td>58         </td><td>31         </td><td>11         </td><td>7          </td><td>36         </td><td> 7         </td><td>20         </td><td>0.7        </td><td>  268      </td><td> 7.0       </td><td>12.90      </td><td> 0.30      </td><td> 8.90      </td><td>0.09       </td><td>232        </td></tr>\n",
       "\t<tr><td>Accessories</td><td>106        </td><td> 114.22    </td><td>83         </td><td>30         </td><td>10         </td><td>9          </td><td>40         </td><td>12         </td><td> 5         </td><td>0.3        </td><td>   64      </td><td> 1.6       </td><td> 5.80      </td><td> 4.00      </td><td> 1.00      </td><td>0.05       </td><td>332        </td></tr>\n",
       "</tbody>\n",
       "</table>\n"
      ],
      "text/latex": [
       "\\begin{tabular}{r|llllllllllllllllll}\n",
       " Product.Type & Product.Number & Price & X5.Star.Reviews & X4.Star.Reviews & X3.Star.Reviews & X2.Star.Reviews & X1.Star.Reviews & Positive.Service.Review & Negative.Service.Review & Would.consumer.recommend.product & Best.Sellers.Rank & Shipping.Weight..lbs. & Product.Depth & Product.Width & Product.Height & Profit.margin & Volume\\\\\n",
       "\\hline\n",
       "\t PC          & 101         &  949.00     &  3          &  3          &  2          & 0           &  0          &  2          &  0          & 0.9         &  1967       & 25.8        & 23.94       &  6.62       & 16.89       & 0.15        &  12        \\\\\n",
       "\t PC          & 102         & 2249.99     &  2          &  1          &  0          & 0           &  0          &  1          &  0          & 0.9         &  4806       & 50.0        & 35.00       & 31.75       & 19.00       & 0.25        &   8        \\\\\n",
       "\t PC          & 103         &  399.00     &  3          &  0          &  0          & 0           &  0          &  1          &  0          & 0.9         & 12076       & 17.4        & 10.50       &  8.30       & 10.20       & 0.08        &  12        \\\\\n",
       "\t Laptop      & 104         &  409.99     & 49          & 19          &  8          & 3           &  9          &  7          &  8          & 0.8         &   109       &  5.7        & 15.00       &  9.90       &  1.30       & 0.08        & 196        \\\\\n",
       "\t Laptop      & 105         & 1079.99     & 58          & 31          & 11          & 7           & 36          &  7          & 20          & 0.7         &   268       &  7.0        & 12.90       &  0.30       &  8.90       & 0.09        & 232        \\\\\n",
       "\t Accessories & 106         &  114.22     & 83          & 30          & 10          & 9           & 40          & 12          &  5          & 0.3         &    64       &  1.6        &  5.80       &  4.00       &  1.00       & 0.05        & 332        \\\\\n",
       "\\end{tabular}\n"
      ],
      "text/markdown": [
       "\n",
       "Product.Type | Product.Number | Price | X5.Star.Reviews | X4.Star.Reviews | X3.Star.Reviews | X2.Star.Reviews | X1.Star.Reviews | Positive.Service.Review | Negative.Service.Review | Would.consumer.recommend.product | Best.Sellers.Rank | Shipping.Weight..lbs. | Product.Depth | Product.Width | Product.Height | Profit.margin | Volume | \n",
       "|---|---|---|---|---|---|\n",
       "| PC          | 101         |  949.00     |  3          |  3          |  2          | 0           |  0          |  2          |  0          | 0.9         |  1967       | 25.8        | 23.94       |  6.62       | 16.89       | 0.15        |  12         | \n",
       "| PC          | 102         | 2249.99     |  2          |  1          |  0          | 0           |  0          |  1          |  0          | 0.9         |  4806       | 50.0        | 35.00       | 31.75       | 19.00       | 0.25        |   8         | \n",
       "| PC          | 103         |  399.00     |  3          |  0          |  0          | 0           |  0          |  1          |  0          | 0.9         | 12076       | 17.4        | 10.50       |  8.30       | 10.20       | 0.08        |  12         | \n",
       "| Laptop      | 104         |  409.99     | 49          | 19          |  8          | 3           |  9          |  7          |  8          | 0.8         |   109       |  5.7        | 15.00       |  9.90       |  1.30       | 0.08        | 196         | \n",
       "| Laptop      | 105         | 1079.99     | 58          | 31          | 11          | 7           | 36          |  7          | 20          | 0.7         |   268       |  7.0        | 12.90       |  0.30       |  8.90       | 0.09        | 232         | \n",
       "| Accessories | 106         |  114.22     | 83          | 30          | 10          | 9           | 40          | 12          |  5          | 0.3         |    64       |  1.6        |  5.80       |  4.00       |  1.00       | 0.05        | 332         | \n",
       "\n",
       "\n"
      ],
      "text/plain": [
       "  Product.Type Product.Number Price   X5.Star.Reviews X4.Star.Reviews\n",
       "1 PC           101             949.00  3               3             \n",
       "2 PC           102            2249.99  2               1             \n",
       "3 PC           103             399.00  3               0             \n",
       "4 Laptop       104             409.99 49              19             \n",
       "5 Laptop       105            1079.99 58              31             \n",
       "6 Accessories  106             114.22 83              30             \n",
       "  X3.Star.Reviews X2.Star.Reviews X1.Star.Reviews Positive.Service.Review\n",
       "1  2              0                0               2                     \n",
       "2  0              0                0               1                     \n",
       "3  0              0                0               1                     \n",
       "4  8              3                9               7                     \n",
       "5 11              7               36               7                     \n",
       "6 10              9               40              12                     \n",
       "  Negative.Service.Review Would.consumer.recommend.product Best.Sellers.Rank\n",
       "1  0                      0.9                               1967            \n",
       "2  0                      0.9                               4806            \n",
       "3  0                      0.9                              12076            \n",
       "4  8                      0.8                                109            \n",
       "5 20                      0.7                                268            \n",
       "6  5                      0.3                                 64            \n",
       "  Shipping.Weight..lbs. Product.Depth Product.Width Product.Height\n",
       "1 25.8                  23.94          6.62         16.89         \n",
       "2 50.0                  35.00         31.75         19.00         \n",
       "3 17.4                  10.50          8.30         10.20         \n",
       "4  5.7                  15.00          9.90          1.30         \n",
       "5  7.0                  12.90          0.30          8.90         \n",
       "6  1.6                   5.80          4.00          1.00         \n",
       "  Profit.margin Volume\n",
       "1 0.15           12   \n",
       "2 0.25            8   \n",
       "3 0.08           12   \n",
       "4 0.08          196   \n",
       "5 0.09          232   \n",
       "6 0.05          332   "
      ]
     },
     "metadata": {},
     "output_type": "display_data"
    },
    {
     "data": {
      "text/html": [
       "<table>\n",
       "<thead><tr><th scope=col>Product.Type</th><th scope=col>Product.Number</th><th scope=col>Price</th><th scope=col>X5.Star.Reviews</th><th scope=col>X4.Star.Reviews</th><th scope=col>X3.Star.Reviews</th><th scope=col>X2.Star.Reviews</th><th scope=col>X1.Star.Reviews</th><th scope=col>Positive.Service.Review</th><th scope=col>Negative.Service.Review</th><th scope=col>Would.consumer.recommend.product</th><th scope=col>Best.Sellers.Rank</th><th scope=col>Shipping.Weight..lbs.</th><th scope=col>Product.Depth</th><th scope=col>Product.Width</th><th scope=col>Product.Height</th><th scope=col>Profit.margin</th><th scope=col>Volume</th></tr></thead>\n",
       "<tbody>\n",
       "\t<tr><td>PC     </td><td>171    </td><td> 699.00</td><td>96     </td><td>26     </td><td>14     </td><td>14     </td><td>25     </td><td>12     </td><td>3      </td><td>0.7    </td><td>2498   </td><td>19.9   </td><td>20.63  </td><td>19.25  </td><td>8.39   </td><td>0.25   </td><td>0      </td></tr>\n",
       "\t<tr><td>PC     </td><td>172    </td><td> 860.00</td><td>51     </td><td>11     </td><td>10     </td><td>10     </td><td>21     </td><td> 7     </td><td>5      </td><td>0.6    </td><td> 490   </td><td>27.0   </td><td>21.89  </td><td>27.01  </td><td>9.13   </td><td>0.20   </td><td>0      </td></tr>\n",
       "\t<tr><td>Laptop </td><td>173    </td><td>1199.00</td><td>74     </td><td>10     </td><td> 3     </td><td> 3     </td><td>11     </td><td>11     </td><td>5      </td><td>0.8    </td><td> 111   </td><td> 6.6   </td><td> 8.94  </td><td>12.80  </td><td>0.68   </td><td>0.10   </td><td>0      </td></tr>\n",
       "\t<tr><td>Laptop </td><td>175    </td><td>1199.00</td><td> 7     </td><td> 2     </td><td> 1     </td><td> 1     </td><td> 1     </td><td> 2     </td><td>1      </td><td>0.6    </td><td>4446   </td><td>13.0   </td><td>16.30  </td><td>10.80  </td><td>1.40   </td><td>0.15   </td><td>0      </td></tr>\n",
       "\t<tr><td>Laptop </td><td>176    </td><td>1999.00</td><td> 1     </td><td> 1     </td><td> 1     </td><td> 3     </td><td> 0     </td><td> 0     </td><td>1      </td><td>0.3    </td><td>2820   </td><td>11.6   </td><td>16.81  </td><td>10.90  </td><td>0.88   </td><td>0.23   </td><td>0      </td></tr>\n",
       "\t<tr><td>Netbook</td><td>178    </td><td> 399.99</td><td>19     </td><td> 8     </td><td> 4     </td><td> 1     </td><td>10     </td><td> 2     </td><td>4      </td><td>0.6    </td><td>4140   </td><td> 5.8   </td><td> 8.43  </td><td>11.42  </td><td>1.20   </td><td>0.08   </td><td>0      </td></tr>\n",
       "</tbody>\n",
       "</table>\n"
      ],
      "text/latex": [
       "\\begin{tabular}{r|llllllllllllllllll}\n",
       " Product.Type & Product.Number & Price & X5.Star.Reviews & X4.Star.Reviews & X3.Star.Reviews & X2.Star.Reviews & X1.Star.Reviews & Positive.Service.Review & Negative.Service.Review & Would.consumer.recommend.product & Best.Sellers.Rank & Shipping.Weight..lbs. & Product.Depth & Product.Width & Product.Height & Profit.margin & Volume\\\\\n",
       "\\hline\n",
       "\t PC      & 171     &  699.00 & 96      & 26      & 14      & 14      & 25      & 12      & 3       & 0.7     & 2498    & 19.9    & 20.63   & 19.25   & 8.39    & 0.25    & 0      \\\\\n",
       "\t PC      & 172     &  860.00 & 51      & 11      & 10      & 10      & 21      &  7      & 5       & 0.6     &  490    & 27.0    & 21.89   & 27.01   & 9.13    & 0.20    & 0      \\\\\n",
       "\t Laptop  & 173     & 1199.00 & 74      & 10      &  3      &  3      & 11      & 11      & 5       & 0.8     &  111    &  6.6    &  8.94   & 12.80   & 0.68    & 0.10    & 0      \\\\\n",
       "\t Laptop  & 175     & 1199.00 &  7      &  2      &  1      &  1      &  1      &  2      & 1       & 0.6     & 4446    & 13.0    & 16.30   & 10.80   & 1.40    & 0.15    & 0      \\\\\n",
       "\t Laptop  & 176     & 1999.00 &  1      &  1      &  1      &  3      &  0      &  0      & 1       & 0.3     & 2820    & 11.6    & 16.81   & 10.90   & 0.88    & 0.23    & 0      \\\\\n",
       "\t Netbook & 178     &  399.99 & 19      &  8      &  4      &  1      & 10      &  2      & 4       & 0.6     & 4140    &  5.8    &  8.43   & 11.42   & 1.20    & 0.08    & 0      \\\\\n",
       "\\end{tabular}\n"
      ],
      "text/markdown": [
       "\n",
       "Product.Type | Product.Number | Price | X5.Star.Reviews | X4.Star.Reviews | X3.Star.Reviews | X2.Star.Reviews | X1.Star.Reviews | Positive.Service.Review | Negative.Service.Review | Would.consumer.recommend.product | Best.Sellers.Rank | Shipping.Weight..lbs. | Product.Depth | Product.Width | Product.Height | Profit.margin | Volume | \n",
       "|---|---|---|---|---|---|\n",
       "| PC      | 171     |  699.00 | 96      | 26      | 14      | 14      | 25      | 12      | 3       | 0.7     | 2498    | 19.9    | 20.63   | 19.25   | 8.39    | 0.25    | 0       | \n",
       "| PC      | 172     |  860.00 | 51      | 11      | 10      | 10      | 21      |  7      | 5       | 0.6     |  490    | 27.0    | 21.89   | 27.01   | 9.13    | 0.20    | 0       | \n",
       "| Laptop  | 173     | 1199.00 | 74      | 10      |  3      |  3      | 11      | 11      | 5       | 0.8     |  111    |  6.6    |  8.94   | 12.80   | 0.68    | 0.10    | 0       | \n",
       "| Laptop  | 175     | 1199.00 |  7      |  2      |  1      |  1      |  1      |  2      | 1       | 0.6     | 4446    | 13.0    | 16.30   | 10.80   | 1.40    | 0.15    | 0       | \n",
       "| Laptop  | 176     | 1999.00 |  1      |  1      |  1      |  3      |  0      |  0      | 1       | 0.3     | 2820    | 11.6    | 16.81   | 10.90   | 0.88    | 0.23    | 0       | \n",
       "| Netbook | 178     |  399.99 | 19      |  8      |  4      |  1      | 10      |  2      | 4       | 0.6     | 4140    |  5.8    |  8.43   | 11.42   | 1.20    | 0.08    | 0       | \n",
       "\n",
       "\n"
      ],
      "text/plain": [
       "  Product.Type Product.Number Price   X5.Star.Reviews X4.Star.Reviews\n",
       "1 PC           171             699.00 96              26             \n",
       "2 PC           172             860.00 51              11             \n",
       "3 Laptop       173            1199.00 74              10             \n",
       "4 Laptop       175            1199.00  7               2             \n",
       "5 Laptop       176            1999.00  1               1             \n",
       "6 Netbook      178             399.99 19               8             \n",
       "  X3.Star.Reviews X2.Star.Reviews X1.Star.Reviews Positive.Service.Review\n",
       "1 14              14              25              12                     \n",
       "2 10              10              21               7                     \n",
       "3  3               3              11              11                     \n",
       "4  1               1               1               2                     \n",
       "5  1               3               0               0                     \n",
       "6  4               1              10               2                     \n",
       "  Negative.Service.Review Would.consumer.recommend.product Best.Sellers.Rank\n",
       "1 3                       0.7                              2498             \n",
       "2 5                       0.6                               490             \n",
       "3 5                       0.8                               111             \n",
       "4 1                       0.6                              4446             \n",
       "5 1                       0.3                              2820             \n",
       "6 4                       0.6                              4140             \n",
       "  Shipping.Weight..lbs. Product.Depth Product.Width Product.Height\n",
       "1 19.9                  20.63         19.25         8.39          \n",
       "2 27.0                  21.89         27.01         9.13          \n",
       "3  6.6                   8.94         12.80         0.68          \n",
       "4 13.0                  16.30         10.80         1.40          \n",
       "5 11.6                  16.81         10.90         0.88          \n",
       "6  5.8                   8.43         11.42         1.20          \n",
       "  Profit.margin Volume\n",
       "1 0.25          0     \n",
       "2 0.20          0     \n",
       "3 0.10          0     \n",
       "4 0.15          0     \n",
       "5 0.23          0     \n",
       "6 0.08          0     "
      ]
     },
     "metadata": {},
     "output_type": "display_data"
    }
   ],
   "source": [
    "#Show the head of both new dataframes. These dataframes were originally written back to csv files \n",
    "#and then used in RapidMinder for correlation matrices, feature selection, filtering and model testing\n",
    "head(existing)\n",
    "head(newProds)"
   ]
  },
  {
   "cell_type": "markdown",
   "metadata": {},
   "source": [
    "### Taking the machine learning output file and performing calculations on it. \n",
    "\n",
    "Once all of the modeling is completed in RapidMinder, the final output is a csv file. The following steps take the csv file and merge it with the provided 'profitability' file to add in the predicted volume column and then perform math to calculate the anticipated profit per prouct, sort and write back to a csv file. In this notebook, we will display the graph instead of writing back the csv file."
   ]
  },
  {
   "cell_type": "code",
   "execution_count": 19,
   "metadata": {},
   "outputs": [
    {
     "name": "stderr",
     "output_type": "stream",
     "text": [
      "New names:\n",
      "* `Product Type` -> Product.Type\n",
      "* `Product #` -> Product..\n",
      "* `Brand Name` -> Brand.Name\n",
      "* `5 Star Reviews` -> ..5.Star.Reviews\n",
      "* `4 Star Reviews` -> ..4.Star.Reviews\n",
      "* ... and 13 more\n"
     ]
    }
   ],
   "source": [
    "## read in model data and profitiabilty data then select the columns of importance\n",
    "model_df <- read.csv(\"model_data.csv\", header = TRUE, sep = \";\")\n",
    "model_volume <- model_df %>%\n",
    "  select(tail(names(.), 2))\n",
    "\n",
    "profit_df <- readxl::read_xlsx(\"profitability.xlsx\", sheet = 1, col_names = TRUE, skip = 1, \n",
    "                               .name_repair = \"universal\")\n",
    "profit_margin <- profit_df %>%\n",
    "  select(1, 2, 3, 4, 19)\n",
    "colnames(profit_margin)[2] <- \"Product.Number\"\n",
    "\n",
    "#join two df together and mutate for the profit margin column and sort by predicted profit margin\n",
    "profit_final <- merge(model_volume, profit_margin, by = \"Product.Number\")\n",
    "profit_final <- profit_final %>%\n",
    "  mutate(pred_profit = prediction.Volume.* Price * Profit.margin)\n",
    "profit_final <- profit_final[order(profit_final$pred_profit, decreasing = TRUE),]\n",
    "profit_final <- profit_final[, c(1, 3, 4, 5, 6, 2, 7)]\n",
    "colnames(profit_final) <- c(\"Product.Number\", \"Type\", \"Brand\", \"Price\", \"Profit.Margin\", \"Predicted.Volume\", \"Predicted.Profit\")\n"
   ]
  },
  {
   "cell_type": "markdown",
   "metadata": {},
   "source": [
    "### Now, we can insert a graph that will show the top 5 items sorted by predicted gross profit!"
   ]
  },
  {
   "cell_type": "code",
   "execution_count": 48,
   "metadata": {},
   "outputs": [
    {
     "data": {},
     "metadata": {},
     "output_type": "display_data"
    },
    {
     "data": {
      "image/png": "[encoded data removed]",
      "text/plain": [
       "plot without title"
      ]
     },
     "metadata": {},
     "output_type": "display_data"
    }
   ],
   "source": [
    "#create a graph for top 5 products based upon total profit -- predicted volume x profit margin x price\n",
    "\n",
    "profit_final$Product.Number <- as.character(profit_final$Product.Number) #need to change to chr for proper display on chart\n",
    "\n",
    "profit_final %>%\n",
    "    filter(Predicted.Profit > 70000) %>%\n",
    "    mutate(Product.Number = fct_reorder(Product.Number, Predicted.Profit, .desc = TRUE)) %>% #display in order of profit\n",
    "    ggplot +\n",
    "  geom_col(aes(x = Product.Number, y = Predicted.Profit, fill = Predicted.Profit)) +\n",
    "  labs(x = \"Product Number\", y = \"Predicted Profit\", title = \"Top 5 Products by Predicted Profit\") +\n",
    "  coord_cartesian(ylim = c(0, 150000))"
   ]
  },
  {
   "cell_type": "markdown",
   "metadata": {},
   "source": [
    "## Proof of Concept Complete!\n",
    "Thanks for checking out my first Jupyter notebook. I have a full blog post describing how I installed, setup, ran and uploaded Jupyter here: <a href =\"https://jeremy-harris.github.io/Installing-And-Using-Jupyter-Notebook-With-R-For-The-First-Time/\"> Blog on Installing and Using Jupyter For The First Time!</a>"
   ]
  }
 ],
 "metadata": {
  "kernelspec": {
   "display_name": "R",
   "language": "R",
   "name": "ir"
  },
  "language_info": {
   "codemirror_mode": "r",
   "file_extension": ".r",
   "mimetype": "text/x-r-source",
   "name": "R",
   "pygments_lexer": "r",
   "version": "3.5.1"
  }
 },
 "nbformat": 4,
 "nbformat_minor": 2
}
